{
 "cells": [
  {
   "cell_type": "markdown",
   "id": "9cedd14c",
   "metadata": {},
   "source": [
    "# Gerando Visualizações dos Dados"
   ]
  },
  {
   "cell_type": "markdown",
   "id": "4a81e03e",
   "metadata": {},
   "source": [
    "### Ajuda Folium\n",
    "https://github.com/python-visualization/folium/tree/master/folium"
   ]
  },
  {
   "cell_type": "code",
   "execution_count": 4,
   "id": "e1c85a53",
   "metadata": {},
   "outputs": [
    {
     "name": "stdout",
     "output_type": "stream",
     "text": [
      "Requirement already satisfied: folium in c:\\users\\luis.motta\\anaconda3\\envs\\test_python\\lib\\site-packages (0.12.1.post1)\n",
      "Requirement already satisfied: requests in c:\\users\\luis.motta\\anaconda3\\envs\\test_python\\lib\\site-packages (from folium) (2.27.1)\n",
      "Requirement already satisfied: branca>=0.3.0 in c:\\users\\luis.motta\\anaconda3\\envs\\test_python\\lib\\site-packages (from folium) (0.4.2)\n",
      "Requirement already satisfied: jinja2>=2.9 in c:\\users\\luis.motta\\anaconda3\\envs\\test_python\\lib\\site-packages (from folium) (3.0.3)\n",
      "Requirement already satisfied: numpy in c:\\users\\luis.motta\\anaconda3\\envs\\test_python\\lib\\site-packages (from folium) (1.21.2)\n",
      "Requirement already satisfied: MarkupSafe>=2.0 in c:\\users\\luis.motta\\anaconda3\\envs\\test_python\\lib\\site-packages (from jinja2>=2.9->folium) (2.0.1)\n",
      "Requirement already satisfied: certifi>=2017.4.17 in c:\\users\\luis.motta\\anaconda3\\envs\\test_python\\lib\\site-packages (from requests->folium) (2021.10.8)\n",
      "Requirement already satisfied: urllib3<1.27,>=1.21.1 in c:\\users\\luis.motta\\anaconda3\\envs\\test_python\\lib\\site-packages (from requests->folium) (1.26.8)\n",
      "Requirement already satisfied: idna<4,>=2.5 in c:\\users\\luis.motta\\anaconda3\\envs\\test_python\\lib\\site-packages (from requests->folium) (3.3)\n",
      "Requirement already satisfied: charset-normalizer~=2.0.0 in c:\\users\\luis.motta\\anaconda3\\envs\\test_python\\lib\\site-packages (from requests->folium) (2.0.11)\n",
      "Note: you may need to restart the kernel to use updated packages.\n"
     ]
    }
   ],
   "source": [
    "%pip install folium"
   ]
  },
  {
   "cell_type": "code",
   "execution_count": 5,
   "id": "4613d704",
   "metadata": {},
   "outputs": [],
   "source": [
    "%matplotlib inline\n",
    "\n",
    "import pandas as pd\n",
    "import geopandas as gpd\n",
    "import folium"
   ]
  },
  {
   "cell_type": "code",
   "execution_count": 6,
   "id": "a824929e",
   "metadata": {},
   "outputs": [],
   "source": [
    "rj = gpd.read_file('../01.Dados/Mapas/RJ-MUNIC/RJ-MUNIC.shp')\n",
    "geo_dados = gpd.read_file('../01.Dados/Mapas/RJ-DATASET/DATASET.shp')\n",
    "setor= gpd.read_file('../01.Dados/Mapas/RJ-SETOR/RJ-SETOR.shp')\n",
    "bairro = gpd.read_file('../01.Dados/Mapas/RJ-BAIRRO/RJ-BAIRRO.shp')"
   ]
  },
  {
   "cell_type": "code",
   "execution_count": 7,
   "id": "a23deff2",
   "metadata": {},
   "outputs": [],
   "source": [
    "crs = {'init': 'epsg:4326'}"
   ]
  },
  {
   "cell_type": "code",
   "execution_count": 8,
   "id": "513aac9e",
   "metadata": {},
   "outputs": [],
   "source": [
    "setor= setor.fillna(0)"
   ]
  },
  {
   "cell_type": "code",
   "execution_count": 9,
   "id": "89bd4abb",
   "metadata": {},
   "outputs": [
    {
     "name": "stderr",
     "output_type": "stream",
     "text": [
      "C:\\Users\\luis.motta\\Anaconda3\\envs\\test_python\\lib\\site-packages\\pyproj\\crs\\crs.py:53: FutureWarning: '+init=<authority>:<code>' syntax is deprecated. '<authority>:<code>' is the preferred initialization method. When making the change, be mindful of axis order changes: https://pyproj4.github.io/pyproj/stable/gotchas.html#axis-order-changes-in-proj-6\n",
      "  return _prepare_from_string(\" \".join(pjargs))\n"
     ]
    }
   ],
   "source": [
    "rj.to_crs(crs, inplace = True)"
   ]
  },
  {
   "cell_type": "code",
   "execution_count": 11,
   "id": "d758d4f4",
   "metadata": {},
   "outputs": [
    {
     "name": "stderr",
     "output_type": "stream",
     "text": [
      "C:\\Users\\LUIS~1.MOT\\AppData\\Local\\Temp/ipykernel_69224/3894571619.py:1: UserWarning: Geometry is in a geographic CRS. Results from 'centroid' are likely incorrect. Use 'GeoSeries.to_crs()' to re-project geometries to a projected CRS before this operation.\n",
      "\n",
      "  rj.centroid.y\n",
      "C:\\Users\\LUIS~1.MOT\\AppData\\Local\\Temp/ipykernel_69224/3894571619.py:2: UserWarning: Geometry is in a geographic CRS. Results from 'centroid' are likely incorrect. Use 'GeoSeries.to_crs()' to re-project geometries to a projected CRS before this operation.\n",
      "\n",
      "  rj.centroid.x\n"
     ]
    },
    {
     "data": {
      "text/plain": [
       "0   -43.450257\n",
       "dtype: float64"
      ]
     },
     "execution_count": 11,
     "metadata": {},
     "output_type": "execute_result"
    }
   ],
   "source": [
    "rj.centroid.y\n",
    "rj.centroid.x"
   ]
  },
  {
   "cell_type": "code",
   "execution_count": 12,
   "id": "eb5ab46a",
   "metadata": {},
   "outputs": [
    {
     "name": "stderr",
     "output_type": "stream",
     "text": [
      "C:\\Users\\LUIS~1.MOT\\AppData\\Local\\Temp/ipykernel_69224/4089273506.py:1: UserWarning: Geometry is in a geographic CRS. Results from 'centroid' are likely incorrect. Use 'GeoSeries.to_crs()' to re-project geometries to a projected CRS before this operation.\n",
      "\n",
      "  y= rj.centroid.y.iloc[0]\n",
      "C:\\Users\\LUIS~1.MOT\\AppData\\Local\\Temp/ipykernel_69224/4089273506.py:2: UserWarning: Geometry is in a geographic CRS. Results from 'centroid' are likely incorrect. Use 'GeoSeries.to_crs()' to re-project geometries to a projected CRS before this operation.\n",
      "\n",
      "  x= rj.centroid.x.iloc[0]\n"
     ]
    }
   ],
   "source": [
    "y= rj.centroid.y.iloc[0]\n",
    "x= rj.centroid.x.iloc[0]"
   ]
  },
  {
   "cell_type": "code",
   "execution_count": 13,
   "id": "a82a744d",
   "metadata": {},
   "outputs": [
    {
     "data": {
      "text/html": [
       "<div>\n",
       "<style scoped>\n",
       "    .dataframe tbody tr th:only-of-type {\n",
       "        vertical-align: middle;\n",
       "    }\n",
       "\n",
       "    .dataframe tbody tr th {\n",
       "        vertical-align: top;\n",
       "    }\n",
       "\n",
       "    .dataframe thead th {\n",
       "        text-align: right;\n",
       "    }\n",
       "</style>\n",
       "<table border=\"1\" class=\"dataframe\">\n",
       "  <thead>\n",
       "    <tr style=\"text-align: right;\">\n",
       "      <th></th>\n",
       "      <th>ID</th>\n",
       "      <th>CD_GEOCODM</th>\n",
       "      <th>NM_MUNICIP</th>\n",
       "      <th>geometry</th>\n",
       "    </tr>\n",
       "  </thead>\n",
       "  <tbody>\n",
       "    <tr>\n",
       "      <th>0</th>\n",
       "      <td>1535</td>\n",
       "      <td>3304557</td>\n",
       "      <td>RIO DE JANEIRO</td>\n",
       "      <td>MULTIPOLYGON (((-43.12376 -22.80712, -43.12380...</td>\n",
       "    </tr>\n",
       "  </tbody>\n",
       "</table>\n",
       "</div>"
      ],
      "text/plain": [
       "     ID CD_GEOCODM      NM_MUNICIP  \\\n",
       "0  1535    3304557  RIO DE JANEIRO   \n",
       "\n",
       "                                            geometry  \n",
       "0  MULTIPOLYGON (((-43.12376 -22.80712, -43.12380...  "
      ]
     },
     "execution_count": 13,
     "metadata": {},
     "output_type": "execute_result"
    }
   ],
   "source": [
    "rj"
   ]
  },
  {
   "cell_type": "markdown",
   "id": "f7ea1b48",
   "metadata": {},
   "source": [
    "# Mapa Camada Simples"
   ]
  },
  {
   "cell_type": "code",
   "execution_count": 15,
   "id": "ce89ff8c",
   "metadata": {},
   "outputs": [
    {
     "ename": "SyntaxError",
     "evalue": "invalid syntax (Temp/ipykernel_69224/2186236263.py, line 4)",
     "output_type": "error",
     "traceback": [
      "\u001b[1;36m  File \u001b[1;32m\"C:\\Users\\LUIS~1.MOT\\AppData\\Local\\Temp/ipykernel_69224/2186236263.py\"\u001b[1;36m, line \u001b[1;32m4\u001b[0m\n\u001b[1;33m    geojson_rj.add_to(base)\u001b[0m\n\u001b[1;37m    ^\u001b[0m\n\u001b[1;31mSyntaxError\u001b[0m\u001b[1;31m:\u001b[0m invalid syntax\n"
     ]
    }
   ],
   "source": [
    "base = folium.Map([y, x], zoom_start=11, tiles='OpenStreetMap')\n",
    "base.choropleth(rj)\n",
    " geojson_rj = folium.GeoJson(rj)\n",
    " geojson_rj.add_child(folium.Popup(rj.NM_MUNICIP.iloc[0])\n",
    " geojson_rj.add_to(base)\n",
    " base"
   ]
  },
  {
   "cell_type": "code",
   "execution_count": null,
   "id": "65a2b101",
   "metadata": {},
   "outputs": [],
   "source": []
  }
 ],
 "metadata": {
  "kernelspec": {
   "display_name": "test_python",
   "language": "python",
   "name": "test_python"
  },
  "language_info": {
   "codemirror_mode": {
    "name": "ipython",
    "version": 3
   },
   "file_extension": ".py",
   "mimetype": "text/x-python",
   "name": "python",
   "nbconvert_exporter": "python",
   "pygments_lexer": "ipython3",
   "version": "3.9.7"
  }
 },
 "nbformat": 4,
 "nbformat_minor": 5
}
