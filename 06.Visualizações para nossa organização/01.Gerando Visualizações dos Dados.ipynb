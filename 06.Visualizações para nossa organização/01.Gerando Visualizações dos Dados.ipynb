{
 "cells": [
  {
   "cell_type": "markdown",
   "id": "9cedd14c",
   "metadata": {},
   "source": [
    "# Gerando Visualizações dos Dados"
   ]
  },
  {
   "cell_type": "markdown",
   "id": "4a81e03e",
   "metadata": {},
   "source": [
    "### Ajuda Folium\n",
    "https://github.com/python-visualization/folium/tree/master/folium"
   ]
  },
  {
   "cell_type": "code",
   "execution_count": null,
   "id": "4613d704",
   "metadata": {},
   "outputs": [],
   "source": [
    "%matplotlib inline\n",
    "%pip install folium\n",
    "import pandas as pd\n",
    "import geopandas as gpd\n",
    "import folium"
   ]
  },
  {
   "cell_type": "code",
   "execution_count": null,
   "id": "a824929e",
   "metadata": {},
   "outputs": [],
   "source": []
  }
 ],
 "metadata": {
  "kernelspec": {
   "display_name": "test_python",
   "language": "python",
   "name": "test_python"
  },
  "language_info": {
   "codemirror_mode": {
    "name": "ipython",
    "version": 3
   },
   "file_extension": ".py",
   "mimetype": "text/x-python",
   "name": "python",
   "nbconvert_exporter": "python",
   "pygments_lexer": "ipython3",
   "version": "3.9.7"
  }
 },
 "nbformat": 4,
 "nbformat_minor": 5
}
